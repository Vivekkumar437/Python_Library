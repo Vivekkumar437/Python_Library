{
 "cells": [
  {
   "cell_type": "code",
   "execution_count": 1,
   "id": "6e2bf93a",
   "metadata": {},
   "outputs": [],
   "source": [
    "##Numpy"
   ]
  },
  {
   "cell_type": "code",
   "execution_count": 2,
   "id": "e6a9f477",
   "metadata": {},
   "outputs": [],
   "source": [
    "##Numpy is a fundamental library for scintific computing in Python.It provides support for arrays and matrices,along with a collection of mathematical functions to operate on these data structures."
   ]
  },
  {
   "cell_type": "code",
   "execution_count": 6,
   "id": "8cf67258",
   "metadata": {},
   "outputs": [],
   "source": [
    "import numpy as np"
   ]
  },
  {
   "cell_type": "code",
   "execution_count": 9,
   "id": "fb5092fb",
   "metadata": {},
   "outputs": [
    {
     "name": "stdout",
     "output_type": "stream",
     "text": [
      "[1 2 3 4 5]\n",
      "<class 'numpy.ndarray'>\n"
     ]
    }
   ],
   "source": [
    "arr1= np.array([1,2,3,4,5])\n",
    "print(arr1)\n",
    "print(type(arr1))"
   ]
  },
  {
   "cell_type": "code",
   "execution_count": 11,
   "id": "5935fef6",
   "metadata": {},
   "outputs": [
    {
     "data": {
      "text/plain": [
       "array([[1., 1., 1., 1.],\n",
       "       [1., 1., 1., 1.],\n",
       "       [1., 1., 1., 1.],\n",
       "       [1., 1., 1., 1.]])"
      ]
     },
     "execution_count": 11,
     "metadata": {},
     "output_type": "execute_result"
    }
   ],
   "source": [
    "np.ones((4,4))"
   ]
  },
  {
   "cell_type": "code",
   "execution_count": 12,
   "id": "ef99b690",
   "metadata": {},
   "outputs": [
    {
     "data": {
      "text/plain": [
       "array([[1., 0., 0., 0.],\n",
       "       [0., 1., 0., 0.],\n",
       "       [0., 0., 1., 0.],\n",
       "       [0., 0., 0., 1.]])"
      ]
     },
     "execution_count": 12,
     "metadata": {},
     "output_type": "execute_result"
    }
   ],
   "source": [
    "np.eye(4)"
   ]
  },
  {
   "cell_type": "code",
   "execution_count": 15,
   "id": "37e55dc3",
   "metadata": {},
   "outputs": [
    {
     "name": "stdout",
     "output_type": "stream",
     "text": [
      "Addition: [5 5 7 9 5 7 9]\n",
      "Substraction [ 3  3  3  3 -3 -3 -3]\n",
      "Multiply [ 4  4 10 18  4 10 18]\n"
     ]
    }
   ],
   "source": [
    "arr1=np.array([1,1,2,3,4,5,6])\n",
    "arr2=np.array([4,4,5,6,1,2,3])\n",
    "\n",
    "print(\"Addition:\", arr1+arr2)\n",
    "\n",
    "print(\"Substraction\", arr2-arr1)\n",
    "\n",
    "print(\"Multiply\", arr1*arr2)\n",
    "\n",
    "\n"
   ]
  },
  {
   "cell_type": "code",
   "execution_count": 19,
   "id": "63a5b190",
   "metadata": {},
   "outputs": [
    {
     "name": "stdout",
     "output_type": "stream",
     "text": [
      "[1.         1.41421356 1.41421356 1.73205081 2.         2.23606798]\n",
      "[  2.71828183   7.3890561    7.3890561   20.08553692  54.59815003\n",
      " 148.4131591 ]\n",
      "[ 0.84147098  0.90929743  0.90929743  0.14112001 -0.7568025  -0.95892427]\n",
      "[0.         0.69314718 0.69314718 1.09861229 1.38629436 1.60943791]\n"
     ]
    }
   ],
   "source": [
    "arr=np.array([1,2,2,3,4,5])\n",
    "\n",
    "print(np.sqrt(arr))\n",
    "\n",
    "print(np.exp(arr))\n",
    "\n",
    "print(np.sin(arr))\n",
    "\n",
    "print(np.log(arr))"
   ]
  },
  {
   "cell_type": "code",
   "execution_count": 21,
   "id": "eae399ed",
   "metadata": {},
   "outputs": [
    {
     "name": "stdout",
     "output_type": "stream",
     "text": [
      "array:\n",
      " [[1 2 3 4]\n",
      " [4 5 6 7]\n",
      " [4 5 2 9]]\n"
     ]
    }
   ],
   "source": [
    "arr1=np.array(([1,2,3,4],[4,5,6,7],[4,5,2,9]))\n",
    "\n",
    "print(\"array:\\n\",arr1)"
   ]
  },
  {
   "cell_type": "code",
   "execution_count": 29,
   "id": "df9abbb8",
   "metadata": {},
   "outputs": [
    {
     "name": "stdout",
     "output_type": "stream",
     "text": [
      "1\n"
     ]
    }
   ],
   "source": [
    "print(arr[0])"
   ]
  },
  {
   "cell_type": "code",
   "execution_count": 30,
   "id": "b6a690e0",
   "metadata": {},
   "outputs": [
    {
     "name": "stdout",
     "output_type": "stream",
     "text": [
      "3\n"
     ]
    }
   ],
   "source": [
    "print(arr[3])"
   ]
  },
  {
   "cell_type": "code",
   "execution_count": 32,
   "id": "b64a2f09",
   "metadata": {},
   "outputs": [
    {
     "name": "stdout",
     "output_type": "stream",
     "text": [
      "[]\n"
     ]
    }
   ],
   "source": [
    "print(arr[6:1])"
   ]
  },
  {
   "cell_type": "code",
   "execution_count": 36,
   "id": "51983c6c",
   "metadata": {},
   "outputs": [
    {
     "name": "stdout",
     "output_type": "stream",
     "text": [
      "Mean: 44.5\n",
      "Median: 38.5\n",
      "STd_dev: 22.20172665957913\n",
      "Var: 492.9166666666667\n"
     ]
    }
   ],
   "source": [
    "arr=np.array([23,45,21,32,64,82])\n",
    "\n",
    "mean=np.mean(arr)\n",
    "print(\"Mean:\",mean)\n",
    "\n",
    "median=np.median(arr)\n",
    "print(\"Median:\",median)\n",
    "\n",
    "std_dev=np.std(arr)\n",
    "print(\"STd_dev:\",std_dev)\n",
    "\n",
    "\n",
    "var=np.var(arr)\n",
    "print(\"Var:\",var)"
   ]
  },
  {
   "cell_type": "code",
   "execution_count": 37,
   "id": "97932bb7",
   "metadata": {},
   "outputs": [
    {
     "data": {
      "text/plain": [
       "array([False, False, False, False, False,  True,  True,  True,  True,\n",
       "        True])"
      ]
     },
     "execution_count": 37,
     "metadata": {},
     "output_type": "execute_result"
    }
   ],
   "source": [
    "data=np.array([1,2,3,4,5,6,7,8,9,10])\n",
    "data>5"
   ]
  },
  {
   "cell_type": "code",
   "execution_count": 38,
   "id": "bbcdd4a7",
   "metadata": {},
   "outputs": [
    {
     "data": {
      "text/plain": [
       "array([6, 7, 8, 9])"
      ]
     },
     "execution_count": 38,
     "metadata": {},
     "output_type": "execute_result"
    }
   ],
   "source": [
    "data[(data>5)&(data<10)]"
   ]
  },
  {
   "cell_type": "code",
   "execution_count": null,
   "id": "3c45f90d",
   "metadata": {},
   "outputs": [],
   "source": []
  },
  {
   "cell_type": "code",
   "execution_count": null,
   "id": "9a117401",
   "metadata": {},
   "outputs": [],
   "source": []
  }
 ],
 "metadata": {
  "kernelspec": {
   "display_name": "base",
   "language": "python",
   "name": "python3"
  },
  "language_info": {
   "codemirror_mode": {
    "name": "ipython",
    "version": 3
   },
   "file_extension": ".py",
   "mimetype": "text/x-python",
   "name": "python",
   "nbconvert_exporter": "python",
   "pygments_lexer": "ipython3",
   "version": "3.12.7"
  }
 },
 "nbformat": 4,
 "nbformat_minor": 5
}
